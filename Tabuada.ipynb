{
  "nbformat": 4,
  "nbformat_minor": 0,
  "metadata": {
    "colab": {
      "provenance": [],
      "authorship_tag": "ABX9TyOzxmkpt1l7jzRbmP/kZzqr",
      "include_colab_link": true
    },
    "kernelspec": {
      "name": "python3",
      "display_name": "Python 3"
    },
    "language_info": {
      "name": "python"
    }
  },
  "cells": [
    {
      "cell_type": "markdown",
      "metadata": {
        "id": "view-in-github",
        "colab_type": "text"
      },
      "source": [
        "<a href=\"https://colab.research.google.com/github/Davi-A-Gonca/Alura_CSS_HTML_1/blob/main/Tabuada.ipynb\" target=\"_parent\"><img src=\"https://colab.research.google.com/assets/colab-badge.svg\" alt=\"Open In Colab\"/></a>"
      ]
    },
    {
      "cell_type": "code",
      "execution_count": null,
      "metadata": {
        "id": "fkcMDnoLKi_j"
      },
      "outputs": [],
      "source": [
        "print(\"Bem vindo à tabuada!\")\n",
        "numero = int(input(\"Escreva un número, e receba a tabuada:\"))\n",
        "\n",
        "print(\"\\n\")\n",
        "for i in range(1,11):\n",
        "  print(f\"{i} * {numero} = {i * numero}\")\n",
        "\n",
        "print(\"\\n\\nFeito, volte sempre\")\n"
      ]
    }
  ]
}