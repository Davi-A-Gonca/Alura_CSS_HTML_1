{
  "nbformat": 4,
  "nbformat_minor": 0,
  "metadata": {
    "colab": {
      "provenance": [],
      "authorship_tag": "ABX9TyP695xbC6JO1n01jvVjjLQI",
      "include_colab_link": true
    },
    "kernelspec": {
      "name": "python3",
      "display_name": "Python 3"
    },
    "language_info": {
      "name": "python"
    }
  },
  "cells": [
    {
      "cell_type": "markdown",
      "metadata": {
        "id": "view-in-github",
        "colab_type": "text"
      },
      "source": [
        "<a href=\"https://colab.research.google.com/github/Davi-A-Gonca/Alura_CSS_HTML_1/blob/main/VerificacaoNumerosPrimos.ipynb\" target=\"_parent\"><img src=\"https://colab.research.google.com/assets/colab-badge.svg\" alt=\"Open In Colab\"/></a>"
      ]
    },
    {
      "cell_type": "code",
      "execution_count": null,
      "metadata": {
        "id": "fkcMDnoLKi_j"
      },
      "outputs": [],
      "source": [
        "print(\"Bem vindo! Esse programa irá verificar se o número que você escreveu é primo\")\n",
        "limite = int(input(\"Digite um número:\"))\n",
        "\n",
        "verifica = 0\n",
        "\n",
        "for num in range(1,limite+1):\n",
        "  if limite % num == 0:\n",
        "    verifica = verifica + 1\n",
        "\n",
        "if verifica == 2 or limite == 1:\n",
        "  print(\"É primo\")\n",
        "else:\n",
        "  print(\"Não é primo\")\n",
        "\n"
      ]
    }
  ]
}