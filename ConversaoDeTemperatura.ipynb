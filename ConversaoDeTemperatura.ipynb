{
  "nbformat": 4,
  "nbformat_minor": 0,
  "metadata": {
    "colab": {
      "provenance": [],
      "authorship_tag": "ABX9TyPl69i6+PknvsJbMnvDu5Me",
      "include_colab_link": true
    },
    "kernelspec": {
      "name": "python3",
      "display_name": "Python 3"
    },
    "language_info": {
      "name": "python"
    }
  },
  "cells": [
    {
      "cell_type": "markdown",
      "metadata": {
        "id": "view-in-github",
        "colab_type": "text"
      },
      "source": [
        "<a href=\"https://colab.research.google.com/github/Davi-A-Gonca/Alura_CSS_HTML_1/blob/main/ConversaoDeTemperatura.ipynb\" target=\"_parent\"><img src=\"https://colab.research.google.com/assets/colab-badge.svg\" alt=\"Open In Colab\"/></a>"
      ]
    },
    {
      "cell_type": "code",
      "execution_count": null,
      "metadata": {
        "id": "fkcMDnoLKi_j"
      },
      "outputs": [],
      "source": [
        "print(\"Bem vindo a conversão de Celsius a Farenheint!\")\n",
        "celsius = float(input(\"Digite uma temperatura em Celsius:\"))\n",
        "\n",
        "farenheint = round(((celsius * 1.8) + 32), 2)\n",
        "\n",
        "print(f\"{celsius}º C\")\n",
        "print(f\"{farenheint}º F\")"
      ]
    }
  ]
}